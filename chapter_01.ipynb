{
 "cells": [
  {
   "attachments": {},
   "cell_type": "markdown",
   "id": "0322f3d0",
   "metadata": {
    "tags": []
   },
   "source": [
    "**数组**"
   ]
  },
  {
   "cell_type": "code",
   "execution_count": 1,
   "id": "9df4882f",
   "metadata": {},
   "outputs": [],
   "source": [
    "import torch\n"
   ]
  },
  {
   "attachments": {},
   "cell_type": "markdown",
   "id": "be952e12",
   "metadata": {},
   "source": [
    "**在torch中生成一个tensor(张量), 这是一个一维的张量**"
   ]
  },
  {
   "cell_type": "code",
   "execution_count": 2,
   "id": "5c730922",
   "metadata": {},
   "outputs": [
    {
     "data": {
      "text/plain": [
       "tensor([ 0,  1,  2,  3,  4,  5,  6,  7,  8,  9, 10, 11])"
      ]
     },
     "execution_count": 2,
     "metadata": {},
     "output_type": "execute_result"
    }
   ],
   "source": [
    "x=torch.arange(12)\n",
    "x"
   ]
  },
  {
   "attachments": {},
   "cell_type": "markdown",
   "id": "dd5e2ccf",
   "metadata": {},
   "source": [
    "我们可以用张量的shape访问形状, 用numel访问其中元素的个数: 这永远是一个标量."
   ]
  },
  {
   "cell_type": "code",
   "execution_count": 3,
   "id": "40efd5a4",
   "metadata": {},
   "outputs": [
    {
     "data": {
      "text/plain": [
       "torch.Size([12])"
      ]
     },
     "execution_count": 3,
     "metadata": {},
     "output_type": "execute_result"
    }
   ],
   "source": [
    "x.shape"
   ]
  },
  {
   "cell_type": "code",
   "execution_count": 4,
   "id": "25c31975",
   "metadata": {},
   "outputs": [
    {
     "data": {
      "text/plain": [
       "12"
      ]
     },
     "execution_count": 4,
     "metadata": {},
     "output_type": "execute_result"
    }
   ],
   "source": [
    "x.numel()"
   ]
  },
  {
   "attachments": {},
   "cell_type": "markdown",
   "id": "87a05194",
   "metadata": {},
   "source": [
    "当我们想改变tensor形状而不改变其元素的数量和数值的时候, 可以使用reshape函数"
   ]
  },
  {
   "cell_type": "code",
   "execution_count": 5,
   "id": "d98f9ddf",
   "metadata": {},
   "outputs": [
    {
     "data": {
      "text/plain": [
       "tensor([[ 0,  1,  2,  3],\n",
       "        [ 4,  5,  6,  7],\n",
       "        [ 8,  9, 10, 11]])"
      ]
     },
     "execution_count": 5,
     "metadata": {},
     "output_type": "execute_result"
    }
   ],
   "source": [
    "x=x.reshape(3,4)\n",
    "x"
   ]
  },
  {
   "attachments": {},
   "cell_type": "markdown",
   "id": "6a863fb5",
   "metadata": {},
   "source": [
    "创建一些全是0, 1 or 特定分布的tensor"
   ]
  },
  {
   "cell_type": "code",
   "execution_count": 6,
   "id": "e9d04f1a",
   "metadata": {},
   "outputs": [
    {
     "data": {
      "text/plain": [
       "tensor([[[0., 0., 0., 0.],\n",
       "         [0., 0., 0., 0.],\n",
       "         [0., 0., 0., 0.]],\n",
       "\n",
       "        [[0., 0., 0., 0.],\n",
       "         [0., 0., 0., 0.],\n",
       "         [0., 0., 0., 0.]]])"
      ]
     },
     "execution_count": 6,
     "metadata": {},
     "output_type": "execute_result"
    }
   ],
   "source": [
    "torch.zeros((2,3,4))"
   ]
  },
  {
   "cell_type": "code",
   "execution_count": 7,
   "id": "eb4ba886",
   "metadata": {},
   "outputs": [
    {
     "data": {
      "text/plain": [
       "tensor([[[1., 1., 1., 1.],\n",
       "         [1., 1., 1., 1.],\n",
       "         [1., 1., 1., 1.]],\n",
       "\n",
       "        [[1., 1., 1., 1.],\n",
       "         [1., 1., 1., 1.],\n",
       "         [1., 1., 1., 1.]]])"
      ]
     },
     "execution_count": 7,
     "metadata": {},
     "output_type": "execute_result"
    }
   ],
   "source": [
    "torch.ones((2,3,4))"
   ]
  },

*********************************

  {
   "attachments": {},
   "cell_type": "markdown",
   "id": "96fd849d",
   "metadata": {},
   "source": [
    "torch支持按元素计算矩阵"
   ]
  },
  {
   "cell_type": "code",
   "execution_count": 8,
   "id": "57ea8f98",
   "metadata": {},
   "outputs": [
    {
     "data": {
      "text/plain": [
       "(tensor([3., 4., 5., 6.]),\n",
       " tensor([-1.,  0.,  1.,  2.]),\n",
       " tensor([2., 4., 6., 8.]),\n",
       " tensor([0.5000, 1.0000, 1.5000, 2.0000]),\n",
       " tensor([ 1.,  4.,  9., 16.]),\n",
       " tensor([ 2.7183,  7.3891, 20.0855, 54.5981]))"
      ]
     },
     "execution_count": 8,
     "metadata": {},
     "output_type": "execute_result"
    }
   ],
   "source": [
    "x=torch.tensor([1.0,2,3,4])\n",
    "y=torch.tensor([2,2,2,2])\n",
    "x+y, x-y, x*y, x/y, x**y, torch.exp(x)"
   ]
  },
  {
   "attachments": {},
   "cell_type": "markdown",
   "id": "55389c69",
   "metadata": {},
   "source": [
    "torch支持对tensor进行合并\n"
   ]
  },
  {
   "cell_type": "code",
   "execution_count": 9,
   "id": "11ced0ca",
   "metadata": {},
   "outputs": [
    {
     "data": {
      "text/plain": [
       "tensor([[ 0.,  1.,  2.,  3.,  1.,  1.,  1.,  1.],\n",
       "        [ 4.,  5.,  6.,  7.,  1.,  1.,  1.,  1.],\n",
       "        [ 8.,  9., 10., 11.,  1.,  1.,  1.,  1.]])"
      ]
     },
     "execution_count": 9,
     "metadata": {},
     "output_type": "execute_result"
    }
   ],
   "source": [
    "x=torch.arange(12, dtype=torch.float32).reshape(3,4)\n",
    "y=torch.ones(3,4)\n",
    "torch.cat((x,y), dim=1) #按列堆积, 最后保持行数不变"
   ]
  },
  {
   "cell_type": "code",
   "execution_count": 10,
   "id": "9d3a0ef7",
   "metadata": {},
   "outputs": [
    {
     "data": {
      "text/plain": [
       "(tensor([[ 0.,  1.,  2.,  3.],\n",
       "         [ 4.,  5.,  6.,  7.],\n",
       "         [ 8.,  9., 10., 11.],\n",
       "         [ 1.,  1.,  1.,  1.],\n",
       "         [ 1.,  1.,  1.,  1.],\n",
       "         [ 1.,  1.,  1.,  1.]]),\n",
       " tensor([[ 0.,  1.,  2.,  3.],\n",
       "         [ 4.,  5.,  6.,  7.],\n",
       "         [ 8.,  9., 10., 11.],\n",
       "         [ 1.,  1.,  1.,  1.],\n",
       "         [ 1.,  1.,  1.,  1.],\n",
       "         [ 1.,  1.,  1.,  1.]]))"
      ]
     },
     "execution_count": 10,
     "metadata": {},
     "output_type": "execute_result"
    }
   ],
   "source": [
    "torch.cat((x,y),dim=0),torch.cat((x,y),dim=-2)# 按行堆积, 最后保证列数不变"
   ]
  },
  {
   "cell_type": "code",
   "execution_count": 11,
   "id": "c83174c2",
   "metadata": {},
   "outputs": [
    {
     "data": {
      "text/plain": [
       "(tensor([[[ 0.,  1.],\n",
       "          [ 2.,  3.],\n",
       "          [ 4.,  5.]],\n",
       " \n",
       "         [[ 6.,  7.],\n",
       "          [ 8.,  9.],\n",
       "          [10., 11.]]]),\n",
       " tensor([[[1., 1.],\n",
       "          [1., 1.],\n",
       "          [1., 1.]],\n",
       " \n",
       "         [[1., 1.],\n",
       "          [1., 1.],\n",
       "          [1., 1.]]]),\n",
       " tensor([[[ 0.,  1.,  1.,  1.],\n",
       "          [ 2.,  3.,  1.,  1.],\n",
       "          [ 4.,  5.,  1.,  1.]],\n",
       " \n",
       "         [[ 6.,  7.,  1.,  1.],\n",
       "          [ 8.,  9.,  1.,  1.],\n",
       "          [10., 11.,  1.,  1.]]]))"
      ]
     },
     "execution_count": 11,
     "metadata": {},
     "output_type": "execute_result"
    }
   ],
   "source": [
    "x=x.reshape(2,3,2)\n",
    "y=y.reshape(2,3,2)\n",
    "x,y,torch.cat((x,y),dim=2)"
   ]
  },
  {
   "cell_type": "code",
   "execution_count": 12,
   "id": "3c78b8ba",
   "metadata": {},
   "outputs": [
    {
     "data": {
      "text/plain": [
       "tensor(66.)"
      ]
     },
     "execution_count": 12,
     "metadata": {},
     "output_type": "execute_result"
    }
   ],
   "source": [
    "x.sum() #对元素进行求和"
   ]
  },
  {
   "attachments": {},
   "cell_type": "markdown",
   "id": "6bd8b5bb",
   "metadata": {},
   "source": [
    "**tensor的广播机制**"
   ]
  },
  {
   "cell_type": "code",
   "execution_count": 13,
   "id": "19922b58",
   "metadata": {},
   "outputs": [
    {
     "data": {
      "text/plain": [
       "(tensor([[0],\n",
       "         [1],\n",
       "         [2]]),\n",
       " tensor([[0, 1, 2]]))"
      ]
     },
     "execution_count": 13,
     "metadata": {},
     "output_type": "execute_result"
    }
   ],
   "source": [
    "a=torch.arange(3).reshape(3,1)\n",
    "b=torch.arange(3).reshape((1,3))\n",
    "a,b"
   ]
  },
  {
   "cell_type": "code",
   "execution_count": 14,
   "id": "bd493e26",
   "metadata": {},
   "outputs": [
    {
     "data": {
      "text/plain": [
       "tensor([[0, 1, 2],\n",
       "        [1, 2, 3],\n",
       "        [2, 3, 4]])"
      ]
     },
     "execution_count": 14,
     "metadata": {},
     "output_type": "execute_result"
    }
   ],
   "source": [
    "a+b"
   ]
  },
  {
   "cell_type": "code",
   "execution_count": 15,
   "id": "c0cd3728",
   "metadata": {},
   "outputs": [
    {
     "data": {
      "text/plain": [
       "(tensor([0, 1, 2]), tensor([0]))"
      ]
     },
     "execution_count": 15,
     "metadata": {},
     "output_type": "execute_result"
    }
   ],
   "source": [
    "a[:,0],a[0,:]# 区分行与列"
   ]
  },
  {
   "attachments": {},
   "cell_type": "markdown",
   "id": "864b050a",
   "metadata": {},
   "source": [
    "执行原地操作, 不占用新的内存"
   ]
  },
  {
   "cell_type": "code",
   "execution_count": 16,
   "id": "188a6056",
   "metadata": {},
   "outputs": [],
   "source": [
    "y=torch.arange(12).reshape((3,4))\n",
    "z=torch.zeros_like(y)"
   ]
  },
  {
   "cell_type": "code",
   "execution_count": 17,
   "id": "211e57df",
   "metadata": {},
   "outputs": [
    {
     "data": {
      "text/plain": [
       "False"
      ]
     },
     "execution_count": 17,
     "metadata": {},
     "output_type": "execute_result"
    }
   ],
   "source": [
    "before=id(z)\n",
    "z=z+y\n",
    "id(z)==before"
   ]
  },
  {
   "cell_type": "code",
   "execution_count": 18,
   "id": "0ad29ce6",
   "metadata": {},
   "outputs": [
    {
     "data": {
      "text/plain": [
       "True"
      ]
     },
     "execution_count": 18,
     "metadata": {},
     "output_type": "execute_result"
    }
   ],
   "source": [
    "before=id(z)\n",
    "z[:]=z+y #这种方法可以不占新的内存\n",
    "id(z)==before"
   ]
  },
  {
   "cell_type": "code",
   "execution_count": 19,
   "id": "034c649c",
   "metadata": {},
   "outputs": [
    {
     "data": {
      "text/plain": [
       "True"
      ]
     },
     "execution_count": 19,
     "metadata": {},
     "output_type": "execute_result"
    }
   ],
   "source": [
    "z+=y\n",
    "id(z)==before"
   ]
  },
  {
   "attachments": {},
   "cell_type": "markdown",
   "id": "38517017",
   "metadata": {},
   "source": [
    "**Numpy和Torch的相互转换**"
   ]
  },
  {
   "cell_type": "code",
   "execution_count": 20,
   "id": "117d9ff2",
   "metadata": {},
   "outputs": [
    {
     "data": {
      "text/plain": [
       "(array([[ 0,  3,  6,  9],\n",
       "        [12, 15, 18, 21],\n",
       "        [24, 27, 30, 33]], dtype=int64),\n",
       " numpy.ndarray,\n",
       " tensor([[ 0,  3,  6,  9],\n",
       "         [12, 15, 18, 21],\n",
       "         [24, 27, 30, 33]]),\n",
       " torch.Tensor)"
      ]
     },
     "execution_count": 20,
     "metadata": {},
     "output_type": "execute_result"
    }
   ],
   "source": [
    "A=z.numpy()\n",
    "B=torch.tensor(A)\n",
    "A,type(A),B, type(B)"
   ]
  },
  {
   "attachments": {},
   "cell_type": "markdown",
   "id": "0969aab4",
   "metadata": {},
   "source": [
    "****"
   ]
  },
  {
   "cell_type": "code",
   "execution_count": 21,
   "id": "a9744a69",
   "metadata": {},
   "outputs": [
    {
     "data": {
      "text/plain": [
       "(torch.Tensor, 3.5, float, 3.5, 3)"
      ]
     },
     "execution_count": 21,
     "metadata": {},
     "output_type": "execute_result"
    }
   ],
   "source": [
    "a=torch.tensor([3.5])\n",
    "type(a),a.item(), type(a.item()), float(a), int(a)"
   ]
  },
  {
   "attachments": {},
   "cell_type": "markdown",
   "id": "34b8cb93",
   "metadata": {},
   "source": [
    "**数据预处理**"
   ]
  },
  {
   "cell_type": "code",
   "execution_count": 22,
   "id": "2c9110b8",
   "metadata": {},
   "outputs": [],
   "source": [
    "import os\n",
    "\n",
    "os.makedirs(os.path.join('..','李沐_动手学深度学习','data'),exist_ok=True)#.. 表示在桌面创建\n",
    "data_file=os.path.join('..','李沐_动手学深度学习', 'data', 'house_tiny.csv')\n",
    "with open(data_file, 'w') as f:\n",
    "    f.write('NumRooms, Alley, Price\\n')\n",
    "    f.write('NA, Pave, 127\\n')\n",
    "    f.write('2,NA,100\\n')\n",
    "    f.write('4,NA,178\\n')\n",
    "    f.write('NA,NA,140\\n')\n"
   ]
  },
  {
   "attachments": {},
   "cell_type": "markdown",
   "id": "5a639ad8",
   "metadata": {},
   "source": [
    "**从创建的CSV文件中加载数据**"
   ]
  },
  {
   "cell_type": "code",
   "execution_count": 23,
   "id": "f6417f00",
   "metadata": {},
   "outputs": [
    {
     "data": {
      "text/html": [
       "<div>\n",
       "<style scoped>\n",
       "    .dataframe tbody tr th:only-of-type {\n",
       "        vertical-align: middle;\n",
       "    }\n",
       "\n",
       "    .dataframe tbody tr th {\n",
       "        vertical-align: top;\n",
       "    }\n",
       "\n",
       "    .dataframe thead th {\n",
       "        text-align: right;\n",
       "    }\n",
       "</style>\n",
       "<table border=\"1\" class=\"dataframe\">\n",
       "  <thead>\n",
       "    <tr style=\"text-align: right;\">\n",
       "      <th></th>\n",
       "      <th>NumRooms</th>\n",
       "      <th>Alley</th>\n",
       "      <th>Price</th>\n",
       "    </tr>\n",
       "  </thead>\n",
       "  <tbody>\n",
       "    <tr>\n",
       "      <th>0</th>\n",
       "      <td>NaN</td>\n",
       "      <td>Pave</td>\n",
       "      <td>127</td>\n",
       "    </tr>\n",
       "    <tr>\n",
       "      <th>1</th>\n",
       "      <td>2.0</td>\n",
       "      <td>NaN</td>\n",
       "      <td>100</td>\n",
       "    </tr>\n",
       "    <tr>\n",
       "      <th>2</th>\n",
       "      <td>4.0</td>\n",
       "      <td>NaN</td>\n",
       "      <td>178</td>\n",
       "    </tr>\n",
       "    <tr>\n",
       "      <th>3</th>\n",
       "      <td>NaN</td>\n",
       "      <td>NaN</td>\n",
       "      <td>140</td>\n",
       "    </tr>\n",
       "  </tbody>\n",
       "</table>\n",
       "</div>"
      ],
      "text/plain": [
       "   NumRooms  Alley   Price\n",
       "0       NaN   Pave     127\n",
       "1       2.0    NaN     100\n",
       "2       4.0    NaN     178\n",
       "3       NaN    NaN     140"
      ]
     },
     "execution_count": 23,
     "metadata": {},
     "output_type": "execute_result"
    }
   ],
   "source": [
    "import pandas as pd\n",
    "data=pd.read_csv(data_file)\n",
    "data"
   ]
  },
  {
   "attachments": {},
   "cell_type": "markdown",
   "id": "814c66ad",
   "metadata": {},
   "source": [
    "**为了处理缺失数据, 我们可以采用*插值*或者*删除***"
   ]
  },
  {
   "cell_type": "code",
   "execution_count": 24,
   "id": "2aaa4086",
   "metadata": {},
   "outputs": [
    {
     "data": {
      "text/html": [
       "<div>\n",
       "<style scoped>\n",
       "    .dataframe tbody tr th:only-of-type {\n",
       "        vertical-align: middle;\n",
       "    }\n",
       "\n",
       "    .dataframe tbody tr th {\n",
       "        vertical-align: top;\n",
       "    }\n",
       "\n",
       "    .dataframe thead th {\n",
       "        text-align: right;\n",
       "    }\n",
       "</style>\n",
       "<table border=\"1\" class=\"dataframe\">\n",
       "  <thead>\n",
       "    <tr style=\"text-align: right;\">\n",
       "      <th></th>\n",
       "      <th>NumRooms</th>\n",
       "      <th>Alley</th>\n",
       "    </tr>\n",
       "  </thead>\n",
       "  <tbody>\n",
       "    <tr>\n",
       "      <th>0</th>\n",
       "      <td>3.0</td>\n",
       "      <td>Pave</td>\n",
       "    </tr>\n",
       "    <tr>\n",
       "      <th>1</th>\n",
       "      <td>2.0</td>\n",
       "      <td>NaN</td>\n",
       "    </tr>\n",
       "    <tr>\n",
       "      <th>2</th>\n",
       "      <td>4.0</td>\n",
       "      <td>NaN</td>\n",
       "    </tr>\n",
       "    <tr>\n",
       "      <th>3</th>\n",
       "      <td>3.0</td>\n",
       "      <td>NaN</td>\n",
       "    </tr>\n",
       "  </tbody>\n",
       "</table>\n",
       "</div>"
      ],
      "text/plain": [
       "   NumRooms  Alley\n",
       "0       3.0   Pave\n",
       "1       2.0    NaN\n",
       "2       4.0    NaN\n",
       "3       3.0    NaN"
      ]
     },
     "execution_count": 24,
     "metadata": {},
     "output_type": "execute_result"
    }
   ],
   "source": [
    "# 这里我们使用插值\n",
    "inputs, outputs=data.iloc[:,0:2],data.iloc[:,2]\n",
    "inputs=inputs.fillna(inputs.mean())\n",
    "inputs"
   ]
  },
  {
   "attachments": {},
   "cell_type": "markdown",
   "id": "179b1109",
   "metadata": {},
   "source": [
    "对于Alley这一列, 因为都是空值和字符值, 所以我们可以采用embedding的形式赋值"
   ]
  },
  {
   "cell_type": "code",
   "execution_count": 25,
   "id": "7ac3928e",
   "metadata": {},
   "outputs": [
    {
     "data": {
      "text/html": [
       "<div>\n",
       "<style scoped>\n",
       "    .dataframe tbody tr th:only-of-type {\n",
       "        vertical-align: middle;\n",
       "    }\n",
       "\n",
       "    .dataframe tbody tr th {\n",
       "        vertical-align: top;\n",
       "    }\n",
       "\n",
       "    .dataframe thead th {\n",
       "        text-align: right;\n",
       "    }\n",
       "</style>\n",
       "<table border=\"1\" class=\"dataframe\">\n",
       "  <thead>\n",
       "    <tr style=\"text-align: right;\">\n",
       "      <th></th>\n",
       "      <th>NumRooms</th>\n",
       "      <th>Alley_ Pave</th>\n",
       "      <th>Alley_nan</th>\n",
       "    </tr>\n",
       "  </thead>\n",
       "  <tbody>\n",
       "    <tr>\n",
       "      <th>0</th>\n",
       "      <td>3.0</td>\n",
       "      <td>1</td>\n",
       "      <td>0</td>\n",
       "    </tr>\n",
       "    <tr>\n",
       "      <th>1</th>\n",
       "      <td>2.0</td>\n",
       "      <td>0</td>\n",
       "      <td>1</td>\n",
       "    </tr>\n",
       "    <tr>\n",
       "      <th>2</th>\n",
       "      <td>4.0</td>\n",
       "      <td>0</td>\n",
       "      <td>1</td>\n",
       "    </tr>\n",
       "    <tr>\n",
       "      <th>3</th>\n",
       "      <td>3.0</td>\n",
       "      <td>0</td>\n",
       "      <td>1</td>\n",
       "    </tr>\n",
       "  </tbody>\n",
       "</table>\n",
       "</div>"
      ],
      "text/plain": [
       "   NumRooms   Alley_ Pave   Alley_nan\n",
       "0       3.0             1           0\n",
       "1       2.0             0           1\n",
       "2       4.0             0           1\n",
       "3       3.0             0           1"
      ]
     },
     "execution_count": 25,
     "metadata": {},
     "output_type": "execute_result"
    }
   ],
   "source": [
    "inputs=pd.get_dummies(inputs, dummy_na=True)\n",
    "inputs"
   ]
  },
  {
   "attachments": {},
   "cell_type": "markdown",
   "id": "0be796c9",
   "metadata": {},
   "source": [
    "**数据处理完毕后, 转为tensor**"
   ]
  },
  {
   "cell_type": "code",
   "execution_count": 26,
   "id": "d69bf25f",
   "metadata": {},
   "outputs": [
    {
     "data": {
      "text/plain": [
       "(tensor([[3., 1., 0.],\n",
       "         [2., 0., 1.],\n",
       "         [4., 0., 1.],\n",
       "         [3., 0., 1.]], dtype=torch.float64),\n",
       " tensor([127, 100, 178, 140]))"
      ]
     },
     "execution_count": 26,
     "metadata": {},
     "output_type": "execute_result"
    }
   ],
   "source": [
    "X,y=torch.tensor(inputs.values), torch.tensor(outputs.values)#valuse 转为numpy属性\n",
    "X, y"
   ]
  }
 ],
 "metadata": {
  "kernelspec": {
   "display_name": "base",
   "language": "python",
   "name": "python3"
  },
  "language_info": {
   "codemirror_mode": {
    "name": "ipython",
    "version": 3
   },
   "file_extension": ".py",
   "mimetype": "text/x-python",
   "name": "python",
   "nbconvert_exporter": "python",
   "pygments_lexer": "ipython3",
   "version": "3.9.7"
  },
  "vscode": {
   "interpreter": {
    "hash": "c51eb747edaff25d1ddc7b66915092e13cfd5f95f5371600d58b95a58bbd606b"
   }
  }
 },
 "nbformat": 4,
 "nbformat_minor": 5
}
