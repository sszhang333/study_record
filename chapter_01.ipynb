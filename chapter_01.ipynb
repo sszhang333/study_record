{
 "cells": [
  {
   "attachments": {},
   "cell_type": "markdown",
   "id": "0322f3d0",
   "metadata": {
    "tags": []
   },
   "source": [
    "**数组**"
   ]
  },
  {
   "cell_type": "code",
   "execution_count": 1,
   "id": "9df4882f",
   "metadata": {},
   "outputs": [],
   "source": [
    "import torch\n"
   ]
  },
  {
   "attachments": {},
   "cell_type": "markdown",
   "id": "be952e12",
   "metadata": {},
   "source": [
    "**在torch中生成一个tensor(张量), 这是一个一维的张量**"
   ]
  },
  {
   "cell_type": "code",
   "execution_count": 2,
   "id": "5c730922",
   "metadata": {},
   "outputs": [
    {
     "data": {
      "text/plain": [
       "tensor([ 0,  1,  2,  3,  4,  5,  6,  7,  8,  9, 10, 11])"
      ]
     },
     "execution_count": 2,
     "metadata": {},
     "output_type": "execute_result"
    }
   ],
   "source": [
    "x=torch.arange(12)\n",
    "x"
   ]
  },
  {
   "attachments": {},
   "cell_type": "markdown",
   "id": "dd5e2ccf",
   "metadata": {},
   "source": [
    "我们可以用张量的shape访问形状, 用numel访问其中元素的个数: 这永远是一个标量."
   ]
  },
  {
   "cell_type": "code",
   "execution_count": 3,
   "id": "40efd5a4",
   "metadata": {},
   "outputs": [
    {
     "data": {
      "text/plain": [
       "torch.Size([12])"
      ]
     },
     "execution_count": 3,
     "metadata": {},
     "output_type": "execute_result"
    }
   ],
   "source": [
    "x.shape"
   ]
  },
  {
   "cell_type": "code",
   "execution_count": 4,
   "id": "25c31975",
   "metadata": {},
   "outputs": [
    {
     "data": {
      "text/plain": [
       "12"
      ]
     },
     "execution_count": 4,
     "metadata": {},
     "output_type": "execute_result"
    }
   ],
   "source": [
    "x.numel()"
   ]
  },
  {
   "attachments": {},
   "cell_type": "markdown",
   "id": "87a05194",
   "metadata": {},
   "source": [
    "当我们想改变tensor形状而不改变其元素的数量和数值的时候, 可以使用reshape函数"
   ]
  },
  {
   "cell_type": "code",
   "execution_count": 5,
   "id": "d98f9ddf",
   "metadata": {},
   "outputs": [
    {
     "data": {
      "text/plain": [
       "tensor([[ 0,  1,  2,  3],\n",
       "        [ 4,  5,  6,  7],\n",
       "        [ 8,  9, 10, 11]])"
      ]
     },
     "execution_count": 5,
     "metadata": {},
     "output_type": "execute_result"
    }
   ],
   "source": [
    "x=x.reshape(3,4)\n",
    "x"
   ]
  },
  {
   "attachments": {},
   "cell_type": "markdown",
   "id": "6a863fb5",
   "metadata": {},
   "source": [
    "创建一些全是0, 1 or 特定分布的tensor"
   ]
  },
  {
   "cell_type": "code",
   "execution_count": 6,
   "id": "e9d04f1a",
   "metadata": {},
   "outputs": [
    {
     "data": {
      "text/plain": [
       "tensor([[[0., 0., 0., 0.],\n",
       "         [0., 0., 0., 0.],\n",
       "         [0., 0., 0., 0.]],\n",
       "\n",
       "        [[0., 0., 0., 0.],\n",
       "         [0., 0., 0., 0.],\n",
       "         [0., 0., 0., 0.]]])"
      ]
     },
     "execution_count": 6,
     "metadata": {},
     "output_type": "execute_result"
    }
   ],
   "source": [
    "torch.zeros((2,3,4))"
   ]
  },
  {
   "cell_type": "code",
   "execution_count": 7,
   "id": "eb4ba886",
   "metadata": {},
   "outputs": [
    {
     "data": {
      "text/plain": [
       "tensor([[[1., 1., 1., 1.],\n",
       "         [1., 1., 1., 1.],\n",
       "         [1., 1., 1., 1.]],\n",
       "\n",
       "        [[1., 1., 1., 1.],\n",
       "         [1., 1., 1., 1.],\n",
       "         [1., 1., 1., 1.]]])"
      ]
     },
     "execution_count": 7,
     "metadata": {},
     "output_type": "execute_result"
    }
   ],
   "source": [
    "torch.ones((2,3,4))"
   ]
  }
